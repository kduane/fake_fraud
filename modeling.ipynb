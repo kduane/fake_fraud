{
 "cells": [
  {
   "cell_type": "code",
   "execution_count": 48,
   "id": "imposed-belgium",
   "metadata": {},
   "outputs": [],
   "source": [
    "import pandas as pd\n",
    "import numpy as np\n",
    "import matplotlib.pyplot as plt\n",
    "import seaborn as sns\n",
    "\n",
    "from sklearn.linear_model import LogisticRegression\n",
    "from sklearn.model_selection import train_test_split, cross_val_score\n",
    "from sklearn.metrics import confusion_matrix, plot_confusion_matrix, roc_auc_score, plot_roc_curve, accuracy_score\n",
    "from sklearn.preprocessing import StandardScaler"
   ]
  },
  {
   "cell_type": "code",
   "execution_count": 5,
   "id": "polished-celebration",
   "metadata": {},
   "outputs": [],
   "source": [
    "## 4.1 Loading and Cleaning the Data for Comparative Modeling\n",
    "\n",
    "df = pd.read_csv('data/PS_20174392719_1491204439457_log.csv')\n",
    "\n",
    "# to make all columns camel case and labeled the same way\n",
    "df = df.rename(columns={'oldbalanceOrg':'oldBalanceOrig', 'newbalanceOrig':'newBalanceOrig', \\\n",
    "                        'oldbalanceDest':'oldBalanceDest', 'newbalanceDest':'newBalanceDest'})\n",
    "\n",
    "# EDA indicated 3 columns were irrelevant:\n",
    "\n",
    "df = df.drop(['nameOrig', 'nameDest', 'isFlaggedFraud'], axis = 1)\n",
    "\n",
    "# EDA indicated fraudulent transactions only occur in CASH_OUT and TRANSFER types\n",
    "\n",
    "df = df[(df['type'] == 'CASH_OUT' ) | (df['type'] == 'TRANSFER')]\n",
    "\n",
    "df = pd.get_dummies(columns = ['type'], drop_first = True, data = df)"
   ]
  },
  {
   "cell_type": "code",
   "execution_count": 6,
   "id": "included-ownership",
   "metadata": {},
   "outputs": [
    {
     "data": {
      "text/html": [
       "<div>\n",
       "<style scoped>\n",
       "    .dataframe tbody tr th:only-of-type {\n",
       "        vertical-align: middle;\n",
       "    }\n",
       "\n",
       "    .dataframe tbody tr th {\n",
       "        vertical-align: top;\n",
       "    }\n",
       "\n",
       "    .dataframe thead th {\n",
       "        text-align: right;\n",
       "    }\n",
       "</style>\n",
       "<table border=\"1\" class=\"dataframe\">\n",
       "  <thead>\n",
       "    <tr style=\"text-align: right;\">\n",
       "      <th></th>\n",
       "      <th>step</th>\n",
       "      <th>amount</th>\n",
       "      <th>oldBalanceOrig</th>\n",
       "      <th>newBalanceOrig</th>\n",
       "      <th>oldBalanceDest</th>\n",
       "      <th>newBalanceDest</th>\n",
       "      <th>isFraud</th>\n",
       "      <th>type_TRANSFER</th>\n",
       "    </tr>\n",
       "  </thead>\n",
       "  <tbody>\n",
       "    <tr>\n",
       "      <th>2</th>\n",
       "      <td>1</td>\n",
       "      <td>181.00</td>\n",
       "      <td>181.0</td>\n",
       "      <td>0.0</td>\n",
       "      <td>0.0</td>\n",
       "      <td>0.00</td>\n",
       "      <td>1</td>\n",
       "      <td>1</td>\n",
       "    </tr>\n",
       "    <tr>\n",
       "      <th>3</th>\n",
       "      <td>1</td>\n",
       "      <td>181.00</td>\n",
       "      <td>181.0</td>\n",
       "      <td>0.0</td>\n",
       "      <td>21182.0</td>\n",
       "      <td>0.00</td>\n",
       "      <td>1</td>\n",
       "      <td>0</td>\n",
       "    </tr>\n",
       "    <tr>\n",
       "      <th>15</th>\n",
       "      <td>1</td>\n",
       "      <td>229133.94</td>\n",
       "      <td>15325.0</td>\n",
       "      <td>0.0</td>\n",
       "      <td>5083.0</td>\n",
       "      <td>51513.44</td>\n",
       "      <td>0</td>\n",
       "      <td>0</td>\n",
       "    </tr>\n",
       "    <tr>\n",
       "      <th>19</th>\n",
       "      <td>1</td>\n",
       "      <td>215310.30</td>\n",
       "      <td>705.0</td>\n",
       "      <td>0.0</td>\n",
       "      <td>22425.0</td>\n",
       "      <td>0.00</td>\n",
       "      <td>0</td>\n",
       "      <td>1</td>\n",
       "    </tr>\n",
       "    <tr>\n",
       "      <th>24</th>\n",
       "      <td>1</td>\n",
       "      <td>311685.89</td>\n",
       "      <td>10835.0</td>\n",
       "      <td>0.0</td>\n",
       "      <td>6267.0</td>\n",
       "      <td>2719172.89</td>\n",
       "      <td>0</td>\n",
       "      <td>1</td>\n",
       "    </tr>\n",
       "  </tbody>\n",
       "</table>\n",
       "</div>"
      ],
      "text/plain": [
       "    step     amount  oldBalanceOrig  newBalanceOrig  oldBalanceDest  \\\n",
       "2      1     181.00           181.0             0.0             0.0   \n",
       "3      1     181.00           181.0             0.0         21182.0   \n",
       "15     1  229133.94         15325.0             0.0          5083.0   \n",
       "19     1  215310.30           705.0             0.0         22425.0   \n",
       "24     1  311685.89         10835.0             0.0          6267.0   \n",
       "\n",
       "    newBalanceDest  isFraud  type_TRANSFER  \n",
       "2             0.00        1              1  \n",
       "3             0.00        1              0  \n",
       "15        51513.44        0              0  \n",
       "19            0.00        0              1  \n",
       "24      2719172.89        0              1  "
      ]
     },
     "execution_count": 6,
     "metadata": {},
     "output_type": "execute_result"
    }
   ],
   "source": [
    "df.head()"
   ]
  },
  {
   "cell_type": "code",
   "execution_count": 13,
   "id": "signed-consistency",
   "metadata": {},
   "outputs": [],
   "source": [
    "X = df.drop(columns = ['isFraud'])\n",
    "y = df['isFraud']\n",
    "\n",
    "X_train, X_test, y_train, y_test = train_test_split(X, y, \n",
    "                                                    random_state=42, \n",
    "                                                    stratify = y)\n",
    "\n",
    "baseline = LogisticRegression()"
   ]
  },
  {
   "cell_type": "code",
   "execution_count": 14,
   "id": "general-operation",
   "metadata": {},
   "outputs": [
    {
     "data": {
      "text/plain": [
       "LogisticRegression()"
      ]
     },
     "execution_count": 14,
     "metadata": {},
     "output_type": "execute_result"
    }
   ],
   "source": [
    "baseline.fit(X_train, y_train)"
   ]
  },
  {
   "cell_type": "code",
   "execution_count": 15,
   "id": "falling-enough",
   "metadata": {},
   "outputs": [],
   "source": [
    "preds = baseline.predict(X_test)"
   ]
  },
  {
   "cell_type": "code",
   "execution_count": 21,
   "id": "hindu-senior",
   "metadata": {},
   "outputs": [
    {
     "data": {
      "text/plain": [
       "array([0, 0, 0, ..., 0, 0, 0])"
      ]
     },
     "execution_count": 21,
     "metadata": {},
     "output_type": "execute_result"
    }
   ],
   "source": [
    "preds"
   ]
  },
  {
   "cell_type": "code",
   "execution_count": 23,
   "id": "emotional-spelling",
   "metadata": {},
   "outputs": [],
   "source": [
    "baseline_cm = confusion_matrix(y_test, preds)"
   ]
  },
  {
   "cell_type": "code",
   "execution_count": 24,
   "id": "informed-ozone",
   "metadata": {},
   "outputs": [],
   "source": [
    "baseline_cm_df = pd.DataFrame(baseline_cm, columns = ['Predicted Legit', 'Predicted Fraud'], index = ['Actual Legit', 'Actual Fraud'])"
   ]
  },
  {
   "cell_type": "code",
   "execution_count": 25,
   "id": "bulgarian-revolution",
   "metadata": {},
   "outputs": [
    {
     "data": {
      "text/html": [
       "<div>\n",
       "<style scoped>\n",
       "    .dataframe tbody tr th:only-of-type {\n",
       "        vertical-align: middle;\n",
       "    }\n",
       "\n",
       "    .dataframe tbody tr th {\n",
       "        vertical-align: top;\n",
       "    }\n",
       "\n",
       "    .dataframe thead th {\n",
       "        text-align: right;\n",
       "    }\n",
       "</style>\n",
       "<table border=\"1\" class=\"dataframe\">\n",
       "  <thead>\n",
       "    <tr style=\"text-align: right;\">\n",
       "      <th></th>\n",
       "      <th>Predicted Legit</th>\n",
       "      <th>Predicted Fraud</th>\n",
       "    </tr>\n",
       "  </thead>\n",
       "  <tbody>\n",
       "    <tr>\n",
       "      <th>Actual Legit</th>\n",
       "      <td>689553</td>\n",
       "      <td>997</td>\n",
       "    </tr>\n",
       "    <tr>\n",
       "      <th>Actual Fraud</th>\n",
       "      <td>1183</td>\n",
       "      <td>870</td>\n",
       "    </tr>\n",
       "  </tbody>\n",
       "</table>\n",
       "</div>"
      ],
      "text/plain": [
       "              Predicted Legit  Predicted Fraud\n",
       "Actual Legit           689553              997\n",
       "Actual Fraud             1183              870"
      ]
     },
     "execution_count": 25,
     "metadata": {},
     "output_type": "execute_result"
    }
   ],
   "source": [
    "baseline_cm_df"
   ]
  },
  {
   "cell_type": "code",
   "execution_count": 28,
   "id": "ruled-firewall",
   "metadata": {},
   "outputs": [
    {
     "data": {
      "text/plain": [
       "<sklearn.metrics._plot.confusion_matrix.ConfusionMatrixDisplay at 0x7f90e3625450>"
      ]
     },
     "execution_count": 28,
     "metadata": {},
     "output_type": "execute_result"
    },
    {
     "data": {
      "image/png": "[encoded data removed]",
      "text/plain": [
       "<Figure size 432x288 with 2 Axes>"
      ]
     },
     "metadata": {
      "needs_background": "light"
     },
     "output_type": "display_data"
    }
   ],
   "source": [
    "plot_confusion_matrix(baseline, X_test, y_test, cmap= 'Greens')"
   ]
  },
  {
   "cell_type": "code",
   "execution_count": 30,
   "id": "running-daniel",
   "metadata": {},
   "outputs": [],
   "source": [
    "tn, fp, fn, tp = confusion_matrix(y_test, preds).ravel()"
   ]
  },
  {
   "cell_type": "code",
   "execution_count": 34,
   "id": "stuffed-machinery",
   "metadata": {},
   "outputs": [
    {
     "name": "stdout",
     "output_type": "stream",
     "text": [
      "Specificity: 0.9985562233002679\n",
      "Sensitivity: 0.4237700925474915\n"
     ]
    }
   ],
   "source": [
    "spec = tn/(tn + fp)\n",
    "sense = tp/(tp+fn)\n",
    "print(f\"Specificity: {spec}\")\n",
    "print(f\"Sensitivity: {sense}\")"
   ]
  },
  {
   "cell_type": "code",
   "execution_count": 36,
   "id": "experimental-external",
   "metadata": {},
   "outputs": [
    {
     "data": {
      "text/html": [
       "<div>\n",
       "<style scoped>\n",
       "    .dataframe tbody tr th:only-of-type {\n",
       "        vertical-align: middle;\n",
       "    }\n",
       "\n",
       "    .dataframe tbody tr th {\n",
       "        vertical-align: top;\n",
       "    }\n",
       "\n",
       "    .dataframe thead th {\n",
       "        text-align: right;\n",
       "    }\n",
       "</style>\n",
       "<table border=\"1\" class=\"dataframe\">\n",
       "  <thead>\n",
       "    <tr style=\"text-align: right;\">\n",
       "      <th></th>\n",
       "      <th>true_values</th>\n",
       "      <th>pred_probs</th>\n",
       "    </tr>\n",
       "  </thead>\n",
       "  <tbody>\n",
       "    <tr>\n",
       "      <th>5611919</th>\n",
       "      <td>0</td>\n",
       "      <td>4.092824e-25</td>\n",
       "    </tr>\n",
       "    <tr>\n",
       "      <th>4804226</th>\n",
       "      <td>0</td>\n",
       "      <td>4.360963e-07</td>\n",
       "    </tr>\n",
       "    <tr>\n",
       "      <th>5932106</th>\n",
       "      <td>0</td>\n",
       "      <td>2.753828e-14</td>\n",
       "    </tr>\n",
       "    <tr>\n",
       "      <th>3680497</th>\n",
       "      <td>0</td>\n",
       "      <td>5.766807e-12</td>\n",
       "    </tr>\n",
       "    <tr>\n",
       "      <th>1390325</th>\n",
       "      <td>0</td>\n",
       "      <td>2.389035e-34</td>\n",
       "    </tr>\n",
       "  </tbody>\n",
       "</table>\n",
       "</div>"
      ],
      "text/plain": [
       "         true_values    pred_probs\n",
       "5611919            0  4.092824e-25\n",
       "4804226            0  4.360963e-07\n",
       "5932106            0  2.753828e-14\n",
       "3680497            0  5.766807e-12\n",
       "1390325            0  2.389035e-34"
      ]
     },
     "execution_count": 36,
     "metadata": {},
     "output_type": "execute_result"
    }
   ],
   "source": [
    "pred_proba = [i[1] for i in baseline.predict_proba(X_test)]\n",
    "baseline_pred_df = pd.DataFrame({'true_values': y_test,\n",
    "                                'pred_probs': pred_proba})\n",
    "baseline_pred_df.head()"
   ]
  },
  {
   "cell_type": "code",
   "execution_count": 40,
   "id": "informative-wholesale",
   "metadata": {},
   "outputs": [
    {
     "data": {
      "image/png": "[encoded data removed]",
      "text/plain": [
       "<Figure size 720x504 with 1 Axes>"
      ]
     },
     "metadata": {
      "needs_background": "light"
     },
     "output_type": "display_data"
    }
   ],
   "source": [
    "plt.figure(figsize = (10, 7))\n",
    "plt.hist(baseline_pred_df[baseline_pred_df['true_values'] == 0]['pred_probs'],\n",
    "         bins = 25,\n",
    "         color = 'b',\n",
    "         alpha = 0.6,\n",
    "         label = 'Actual Outcome = 0')\n",
    "plt.hist(baseline_pred_df[baseline_pred_df['true_values'] == 1]['pred_probs'],\n",
    "         bins = 25,\n",
    "         color = 'orange',\n",
    "         alpha = 0.6,\n",
    "         label = 'Actual Outcome = 1')\n",
    "\n",
    "plt.title('Distribution of P(Outcome = 1)', fontsize = 22)\n",
    "plt.ylabel('Frequency', fontsize = 18)\n",
    "plt.xlabel('Predicted Probability that Outcome = 1', fontsize = 18)\n",
    "\n",
    "plt.legend(fontsize = 20);"
   ]
  },
  {
   "cell_type": "code",
   "execution_count": 43,
   "id": "structural-width",
   "metadata": {},
   "outputs": [
    {
     "data": {
      "image/png": "[encoded data removed]",
      "text/plain": [
       "<Figure size 432x288 with 1 Axes>"
      ]
     },
     "metadata": {
      "needs_background": "light"
     },
     "output_type": "display_data"
    }
   ],
   "source": [
    "plot_roc_curve(baseline, X_test, y_test);"
   ]
  },
  {
   "cell_type": "code",
   "execution_count": 46,
   "id": "waiting-aside",
   "metadata": {},
   "outputs": [
    {
     "data": {
      "text/plain": [
       "array([0.97531412, 0.99832877, 0.99820424, 0.99791728, 0.99775845])"
      ]
     },
     "execution_count": 46,
     "metadata": {},
     "output_type": "execute_result"
    }
   ],
   "source": [
    "cross_val_score(baseline, X, y)"
   ]
  },
  {
   "cell_type": "code",
   "execution_count": 49,
   "id": "english-sequence",
   "metadata": {},
   "outputs": [
    {
     "data": {
      "text/plain": [
       "0.9968524537144656"
      ]
     },
     "execution_count": 49,
     "metadata": {},
     "output_type": "execute_result"
    }
   ],
   "source": [
    "accuracy_score(y_test, preds)"
   ]
  },
  {
   "cell_type": "markdown",
   "id": "precise-rescue",
   "metadata": {},
   "source": [
    "Okay, the baseline isn't performing overly well, the AUC is 0.94, the accuracy is 99.7 %-  and if we predicted everything was not fraudulent, we'd have an overall accuracy of 99.8%.  Because we're dealing with a highly unbalanced class here, we'll need to try out a few methods to see if we can improve the model.  "
   ]
  }
 ],
 "metadata": {
  "kernelspec": {
   "display_name": "Python 3.7.7 64-bit (conda)",
   "language": "python",
   "name": "python37764bitconda77dc9d652bc147c6a9d0ea8af6b5ba0e"
  },
  "language_info": {
   "codemirror_mode": {
    "name": "ipython",
    "version": 3
   },
   "file_extension": ".py",
   "mimetype": "text/x-python",
   "name": "python",
   "nbconvert_exporter": "python",
   "pygments_lexer": "ipython3",
   "version": "3.7.10"
  }
 },
 "nbformat": 4,
 "nbformat_minor": 5
}
