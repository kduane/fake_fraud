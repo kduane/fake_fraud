{
 "cells": [
  {
   "cell_type": "code",
   "execution_count": 1,
   "id": "respiratory-smith",
   "metadata": {},
   "outputs": [],
   "source": [
    "import pandas as pd\n",
    "import numpy as np\n",
    "import matplotlib.pyplot as plt\n",
    "import seaborn as sns\n",
    "\n",
    "from sklearn.linear_model import LogisticRegression, LogisticRegressionCV\n",
    "from sklearn.model_selection import train_test_split, cross_val_score\n",
    "from sklearn.metrics import confusion_matrix, plot_confusion_matrix, roc_auc_score, plot_roc_curve, accuracy_score\n",
    "from sklearn.preprocessing import StandardScaler\n",
    "from sklearn.ensemble import RandomForestClassifier\n",
    "\n",
    "import xgboost as xgb\n",
    "\n",
    "from imblearn.pipeline import Pipeline\n",
    "from imblearn.over_sampling import SMOTE\n",
    "from imblearn.under_sampling import RandomUnderSampler\n",
    "\n",
    "from collections import Counter"
   ]
  },
  {
   "cell_type": "code",
   "execution_count": 2,
   "id": "black-department",
   "metadata": {},
   "outputs": [],
   "source": [
    "## 4.1 Loading and Cleaning the Data for Comparative Modeling\n",
    "\n",
    "df = pd.read_csv('data/PS_20174392719_1491204439457_log.csv')\n",
    "\n",
    "# to make all columns camel case and labeled the same way\n",
    "df = df.rename(columns={'oldbalanceOrg':'oldBalanceOrig', 'newbalanceOrig':'newBalanceOrig', \\\n",
    "                        'oldbalanceDest':'oldBalanceDest', 'newbalanceDest':'newBalanceDest'})\n",
    "\n",
    "# EDA indicated 3 columns were irrelevant:\n",
    "\n",
    "df = df.drop(['nameOrig', 'nameDest', 'isFlaggedFraud'], axis = 1)\n",
    "\n",
    "# EDA indicated fraudulent transactions only occur in CASH_OUT and TRANSFER types\n",
    "\n",
    "df = df[(df['type'] == 'CASH_OUT' ) | (df['type'] == 'TRANSFER')]\n",
    "\n",
    "#engineered columns \n",
    "df['sourceBalanceDiff'] = df['newBalanceOrig'] + df['amount'] - df['oldBalanceOrig']\n",
    "df['tarBalanceDiff'] = df['oldBalanceDest'] + df['amount'] - df['newBalanceDest']\n",
    "\n",
    "df = pd.get_dummies(columns = ['type'], drop_first = True, data = df)"
   ]
  },
  {
   "cell_type": "code",
   "execution_count": 3,
   "id": "architectural-permit",
   "metadata": {},
   "outputs": [],
   "source": [
    "X = df.drop(columns = ['isFraud'])\n",
    "y = df['isFraud']\n",
    "\n",
    "X_train, X_test, y_train, y_test = train_test_split(X, y, \n",
    "                                                    random_state=42, \n",
    "                                                    stratify = y)\n",
    "\n",
    "baseline = LogisticRegression()"
   ]
  },
  {
   "cell_type": "code",
   "execution_count": 4,
   "id": "mighty-essex",
   "metadata": {},
   "outputs": [
    {
     "data": {
      "text/plain": [
       "LogisticRegression()"
      ]
     },
     "execution_count": 4,
     "metadata": {},
     "output_type": "execute_result"
    }
   ],
   "source": [
    "baseline.fit(X_train, y_train)"
   ]
  },
  {
   "cell_type": "code",
   "execution_count": 5,
   "id": "lyric-kinase",
   "metadata": {},
   "outputs": [],
   "source": [
    "preds = baseline.predict(X_test)"
   ]
  },
  {
   "cell_type": "code",
   "execution_count": 6,
   "id": "hispanic-johns",
   "metadata": {},
   "outputs": [
    {
     "data": {
      "text/plain": [
       "array([0, 0, 0, ..., 0, 0, 0])"
      ]
     },
     "execution_count": 6,
     "metadata": {},
     "output_type": "execute_result"
    }
   ],
   "source": [
    "preds"
   ]
  },
  {
   "cell_type": "code",
   "execution_count": 7,
   "id": "expanded-concert",
   "metadata": {},
   "outputs": [],
   "source": [
    "baseline_cm = confusion_matrix(y_test, preds)"
   ]
  },
  {
   "cell_type": "code",
   "execution_count": 8,
   "id": "forced-retailer",
   "metadata": {},
   "outputs": [],
   "source": [
    "baseline_cm_df = pd.DataFrame(baseline_cm, columns = ['Predicted Legit', 'Predicted Fraud'], index = ['Actual Legit', 'Actual Fraud'])"
   ]
  },
  {
   "cell_type": "code",
   "execution_count": 9,
   "id": "greatest-aluminum",
   "metadata": {},
   "outputs": [
    {
     "data": {
      "text/html": [
       "<div>\n",
       "<style scoped>\n",
       "    .dataframe tbody tr th:only-of-type {\n",
       "        vertical-align: middle;\n",
       "    }\n",
       "\n",
       "    .dataframe tbody tr th {\n",
       "        vertical-align: top;\n",
       "    }\n",
       "\n",
       "    .dataframe thead th {\n",
       "        text-align: right;\n",
       "    }\n",
       "</style>\n",
       "<table border=\"1\" class=\"dataframe\">\n",
       "  <thead>\n",
       "    <tr style=\"text-align: right;\">\n",
       "      <th></th>\n",
       "      <th>Predicted Legit</th>\n",
       "      <th>Predicted Fraud</th>\n",
       "    </tr>\n",
       "  </thead>\n",
       "  <tbody>\n",
       "    <tr>\n",
       "      <th>Actual Legit</th>\n",
       "      <td>689553</td>\n",
       "      <td>997</td>\n",
       "    </tr>\n",
       "    <tr>\n",
       "      <th>Actual Fraud</th>\n",
       "      <td>1183</td>\n",
       "      <td>870</td>\n",
       "    </tr>\n",
       "  </tbody>\n",
       "</table>\n",
       "</div>"
      ],
      "text/plain": [
       "              Predicted Legit  Predicted Fraud\n",
       "Actual Legit           689553              997\n",
       "Actual Fraud             1183              870"
      ]
     },
     "execution_count": 9,
     "metadata": {},
     "output_type": "execute_result"
    }
   ],
   "source": [
    "baseline_cm_df"
   ]
  },
  {
   "cell_type": "code",
   "execution_count": 10,
   "id": "secondary-affiliation",
   "metadata": {},
   "outputs": [
    {
     "data": {
      "text/plain": [
       "<sklearn.metrics._plot.confusion_matrix.ConfusionMatrixDisplay at 0x7fe34adebc50>"
      ]
     },
     "execution_count": 10,
     "metadata": {},
     "output_type": "execute_result"
    },
    {
     "data": {
      "image/png": "[encoded data removed]",
      "text/plain": [
       "<Figure size 432x288 with 2 Axes>"
      ]
     },
     "metadata": {
      "needs_background": "light"
     },
     "output_type": "display_data"
    }
   ],
   "source": [
    "plot_confusion_matrix(baseline, X_test, y_test, cmap= 'Greens')"
   ]
  },
  {
   "cell_type": "code",
   "execution_count": 11,
   "id": "small-coordinate",
   "metadata": {},
   "outputs": [],
   "source": [
    "tn, fp, fn, tp = confusion_matrix(y_test, preds).ravel()"
   ]
  },
  {
   "cell_type": "code",
   "execution_count": 12,
   "id": "manufactured-addition",
   "metadata": {},
   "outputs": [
    {
     "name": "stdout",
     "output_type": "stream",
     "text": [
      "Specificity: 0.9985562233002679\n",
      "Sensitivity: 0.4237700925474915\n"
     ]
    }
   ],
   "source": [
    "spec = tn/(tn + fp)\n",
    "sense = tp/(tp+fn)\n",
    "print(f\"Specificity: {spec}\")\n",
    "print(f\"Sensitivity: {sense}\")\n"
   ]
  },
  {
   "cell_type": "code",
   "execution_count": 13,
   "id": "abstract-damages",
   "metadata": {},
   "outputs": [
    {
     "data": {
      "text/html": [
       "<div>\n",
       "<style scoped>\n",
       "    .dataframe tbody tr th:only-of-type {\n",
       "        vertical-align: middle;\n",
       "    }\n",
       "\n",
       "    .dataframe tbody tr th {\n",
       "        vertical-align: top;\n",
       "    }\n",
       "\n",
       "    .dataframe thead th {\n",
       "        text-align: right;\n",
       "    }\n",
       "</style>\n",
       "<table border=\"1\" class=\"dataframe\">\n",
       "  <thead>\n",
       "    <tr style=\"text-align: right;\">\n",
       "      <th></th>\n",
       "      <th>true_values</th>\n",
       "      <th>pred_probs</th>\n",
       "    </tr>\n",
       "  </thead>\n",
       "  <tbody>\n",
       "    <tr>\n",
       "      <th>5611919</th>\n",
       "      <td>0</td>\n",
       "      <td>4.095621e-25</td>\n",
       "    </tr>\n",
       "    <tr>\n",
       "      <th>4804226</th>\n",
       "      <td>0</td>\n",
       "      <td>4.361779e-07</td>\n",
       "    </tr>\n",
       "    <tr>\n",
       "      <th>5932106</th>\n",
       "      <td>0</td>\n",
       "      <td>2.754824e-14</td>\n",
       "    </tr>\n",
       "    <tr>\n",
       "      <th>3680497</th>\n",
       "      <td>0</td>\n",
       "      <td>5.768656e-12</td>\n",
       "    </tr>\n",
       "    <tr>\n",
       "      <th>1390325</th>\n",
       "      <td>0</td>\n",
       "      <td>2.390749e-34</td>\n",
       "    </tr>\n",
       "  </tbody>\n",
       "</table>\n",
       "</div>"
      ],
      "text/plain": [
       "         true_values    pred_probs\n",
       "5611919            0  4.095621e-25\n",
       "4804226            0  4.361779e-07\n",
       "5932106            0  2.754824e-14\n",
       "3680497            0  5.768656e-12\n",
       "1390325            0  2.390749e-34"
      ]
     },
     "execution_count": 13,
     "metadata": {},
     "output_type": "execute_result"
    }
   ],
   "source": [
    "pred_proba = [i[1] for i in baseline.predict_proba(X_test)]\n",
    "baseline_pred_df = pd.DataFrame({'true_values': y_test,\n",
    "                                'pred_probs': pred_proba})\n",
    "baseline_pred_df.head()"
   ]
  },
  {
   "cell_type": "code",
   "execution_count": 14,
   "id": "fourth-desperate",
   "metadata": {},
   "outputs": [
    {
     "data": {
      "image/png": "[encoded data removed]",
      "text/plain": [
       "<Figure size 720x504 with 1 Axes>"
      ]
     },
     "metadata": {
      "needs_background": "light"
     },
     "output_type": "display_data"
    }
   ],
   "source": [
    "plt.figure(figsize = (10, 7))\n",
    "plt.hist(baseline_pred_df[baseline_pred_df['true_values'] == 0]['pred_probs'],\n",
    "         bins = 25,\n",
    "         color = 'b',\n",
    "         alpha = 0.6,\n",
    "         label = 'Actual Outcome = 0')\n",
    "plt.hist(baseline_pred_df[baseline_pred_df['true_values'] == 1]['pred_probs'],\n",
    "         bins = 25,\n",
    "         color = 'orange',\n",
    "         alpha = 0.6,\n",
    "         label = 'Actual Outcome = 1')\n",
    "\n",
    "plt.title('Distribution of P(Outcome = 1)', fontsize = 22)\n",
    "plt.ylabel('Frequency', fontsize = 18)\n",
    "plt.xlabel('Predicted Probability that Outcome = 1', fontsize = 18)\n",
    "\n",
    "plt.legend(fontsize = 20);"
   ]
  },
  {
   "cell_type": "code",
   "execution_count": 15,
   "id": "absolute-retirement",
   "metadata": {},
   "outputs": [
    {
     "data": {
      "image/png": "[encoded data removed]",
      "text/plain": [
       "<Figure size 432x288 with 1 Axes>"
      ]
     },
     "metadata": {
      "needs_background": "light"
     },
     "output_type": "display_data"
    }
   ],
   "source": [
    "plot_roc_curve(baseline, X_test, y_test);"
   ]
  },
  {
   "cell_type": "code",
   "execution_count": 16,
   "id": "embedded-arthritis",
   "metadata": {},
   "outputs": [
    {
     "data": {
      "text/plain": [
       "array([0.97531412, 0.99832877, 0.99820424, 0.99791728, 0.99775845])"
      ]
     },
     "execution_count": 16,
     "metadata": {},
     "output_type": "execute_result"
    }
   ],
   "source": [
    "cross_val_score(baseline, X, y)"
   ]
  },
  {
   "cell_type": "code",
   "execution_count": 17,
   "id": "sought-psychiatry",
   "metadata": {},
   "outputs": [
    {
     "data": {
      "text/plain": [
       "0.9968524537144656"
      ]
     },
     "execution_count": 17,
     "metadata": {},
     "output_type": "execute_result"
    }
   ],
   "source": [
    "accuracy_score(y_test, preds)"
   ]
  },
  {
   "cell_type": "markdown",
   "id": "separated-confusion",
   "metadata": {},
   "source": [
    "Okay, the baseline isn't performing overly well, the AUC is 0.94, the accuracy is 99.7 % and in cross validation we're seeing some variation in the cross-validated accuracy.  For comparision, if we'd predicted everything was not fraudulent, we'd have an overall accuracy of 99.8%.  Because we're dealing with a highly unbalanced class here, we'll need to try out a few methods to see if we can improve the model.  "
   ]
  },
  {
   "cell_type": "code",
   "execution_count": 18,
   "id": "comparative-cameroon",
   "metadata": {},
   "outputs": [
    {
     "name": "stdout",
     "output_type": "stream",
     "text": [
      "Counter({0: 2762196, 1: 8213})\n"
     ]
    }
   ],
   "source": [
    "counter = Counter(y)\n",
    "print(counter)"
   ]
  },
  {
   "cell_type": "code",
   "execution_count": 19,
   "id": "peaceful-postage",
   "metadata": {},
   "outputs": [],
   "source": [
    "oversample = SMOTE()\n",
    "X1_train, y1_train = oversample.fit_resample(X_train, y_train)"
   ]
  },
  {
   "cell_type": "code",
   "execution_count": 20,
   "id": "future-contract",
   "metadata": {},
   "outputs": [
    {
     "name": "stdout",
     "output_type": "stream",
     "text": [
      "Counter({0: 2071646, 1: 2071646})\n"
     ]
    }
   ],
   "source": [
    "counter = Counter(y1_train)\n",
    "print(counter)"
   ]
  },
  {
   "cell_type": "code",
   "execution_count": 21,
   "id": "centered-repair",
   "metadata": {},
   "outputs": [
    {
     "data": {
      "text/plain": [
       "LogisticRegression()"
      ]
     },
     "execution_count": 21,
     "metadata": {},
     "output_type": "execute_result"
    }
   ],
   "source": [
    "os_lr = LogisticRegression()\n",
    "\n",
    "os_lr.fit(X1_train, y1_train)"
   ]
  },
  {
   "cell_type": "code",
   "execution_count": 22,
   "id": "together-north",
   "metadata": {},
   "outputs": [
    {
     "data": {
      "text/plain": [
       "<sklearn.metrics._plot.confusion_matrix.ConfusionMatrixDisplay at 0x7fe3534ff690>"
      ]
     },
     "execution_count": 22,
     "metadata": {},
     "output_type": "execute_result"
    },
    {
     "data": {
      "image/png": "[encoded data removed]",
      "text/plain": [
       "<Figure size 432x288 with 2 Axes>"
      ]
     },
     "metadata": {
      "needs_background": "light"
     },
     "output_type": "display_data"
    }
   ],
   "source": [
    "plot_confusion_matrix(os_lr, X_test, y_test, cmap= 'Greens')"
   ]
  },
  {
   "cell_type": "code",
   "execution_count": 23,
   "id": "ultimate-roots",
   "metadata": {},
   "outputs": [
    {
     "data": {
      "image/png": "[encoded data removed]",
      "text/plain": [
       "<Figure size 432x288 with 1 Axes>"
      ]
     },
     "metadata": {
      "needs_background": "light"
     },
     "output_type": "display_data"
    }
   ],
   "source": [
    "plot_roc_curve(os_lr, X_test, y_test);"
   ]
  },
  {
   "cell_type": "code",
   "execution_count": 24,
   "id": "referenced-surge",
   "metadata": {},
   "outputs": [
    {
     "data": {
      "text/plain": [
       "array([0.99662867, 0.99691022, 0.99704016, 0.99709067, 0.99651314])"
      ]
     },
     "execution_count": 24,
     "metadata": {},
     "output_type": "execute_result"
    }
   ],
   "source": [
    "cross_val_score(os_lr, X_test, y_test)"
   ]
  },
  {
   "cell_type": "code",
   "execution_count": 25,
   "id": "genetic-horse",
   "metadata": {},
   "outputs": [
    {
     "data": {
      "text/plain": [
       "0.8846568669208767"
      ]
     },
     "execution_count": 25,
     "metadata": {},
     "output_type": "execute_result"
    }
   ],
   "source": [
    "preds1 = os_lr.predict(X_test)\n",
    "accuracy_score(y_test, preds1)"
   ]
  },
  {
   "cell_type": "markdown",
   "id": "satisfied-conservation",
   "metadata": {},
   "source": [
    "At first glance this looks like a regression from the previous set, but we need to keep in mind that this includes the minority cases being synthetically inflated through oversampling to match the same size as the majority case."
   ]
  },
  {
   "cell_type": "code",
   "execution_count": 26,
   "id": "sexual-vintage",
   "metadata": {},
   "outputs": [
    {
     "data": {
      "text/plain": [
       "0.8846568669208767"
      ]
     },
     "execution_count": 26,
     "metadata": {},
     "output_type": "execute_result"
    }
   ],
   "source": [
    "os_preds = os_lr.predict(X_test)\n",
    "accuracy_score(y_test, os_preds)"
   ]
  },
  {
   "cell_type": "markdown",
   "id": "sound-subscriber",
   "metadata": {},
   "source": [
    "And we see a decrease in prediction accuracy when we test it on the non-oversampled data.  Interesting.  Let's try both over and undersampling, see if that improves our performance."
   ]
  },
  {
   "cell_type": "code",
   "execution_count": 27,
   "id": "every-period",
   "metadata": {},
   "outputs": [
    {
     "data": {
      "text/plain": [
       "LogisticRegressionCV()"
      ]
     },
     "execution_count": 27,
     "metadata": {},
     "output_type": "execute_result"
    }
   ],
   "source": [
    "over = SMOTE(sampling_strategy = 0.1)\n",
    "under = RandomUnderSampler(sampling_strategy = 0.5)\n",
    "steps = [('o', over), ('u', under)]\n",
    "balance_pipe = Pipeline(steps = steps)\n",
    "X2_train, y2_train = balance_pipe.fit_resample(X_train, y_train)\n",
    "\n",
    "bal_lr = LogisticRegression()\n",
    "bal_lrcv = LogisticRegressionCV()\n",
    "\n",
    "bal_lr.fit(X2_train, y2_train)\n",
    "bal_lrcv.fit(X2_train, y2_train)"
   ]
  },
  {
   "cell_type": "code",
   "execution_count": 29,
   "id": "flying-republic",
   "metadata": {},
   "outputs": [
    {
     "data": {
      "text/plain": [
       "<sklearn.metrics._plot.confusion_matrix.ConfusionMatrixDisplay at 0x7fe284472590>"
      ]
     },
     "execution_count": 29,
     "metadata": {},
     "output_type": "execute_result"
    },
    {
     "data": {
      "image/png": "[encoded data removed]",
      "text/plain": [
       "<Figure size 432x288 with 2 Axes>"
      ]
     },
     "metadata": {
      "needs_background": "light"
     },
     "output_type": "display_data"
    }
   ],
   "source": [
    "plot_confusion_matrix(bal_lr, X_test, y_test, cmap= 'Greens')"
   ]
  },
  {
   "cell_type": "code",
   "execution_count": 31,
   "id": "falling-reducing",
   "metadata": {},
   "outputs": [
    {
     "data": {
      "image/png": "[encoded data removed]",
      "text/plain": [
       "<Figure size 432x288 with 1 Axes>"
      ]
     },
     "metadata": {
      "needs_background": "light"
     },
     "output_type": "display_data"
    }
   ],
   "source": [
    "plot_roc_curve(bal_lr, X_test, y_test);"
   ]
  },
  {
   "cell_type": "code",
   "execution_count": 32,
   "id": "eastern-claim",
   "metadata": {},
   "outputs": [
    {
     "data": {
      "text/plain": [
       "<sklearn.metrics._plot.roc_curve.RocCurveDisplay at 0x7fe284b5a850>"
      ]
     },
     "execution_count": 32,
     "metadata": {},
     "output_type": "execute_result"
    },
    {
     "data": {
      "image/png": "[encoded data removed]",
      "text/plain": [
       "<Figure size 432x288 with 1 Axes>"
      ]
     },
     "metadata": {
      "needs_background": "light"
     },
     "output_type": "display_data"
    }
   ],
   "source": [
    "plot_roc_curve(bal_lrcv, X_test, y_test)"
   ]
  },
  {
   "cell_type": "code",
   "execution_count": 33,
   "id": "measured-persian",
   "metadata": {},
   "outputs": [],
   "source": [
    "bal_preds1 = bal_lr.predict(X_test)\n",
    "bal_preds2 = bal_lrcv.predict(X_test)"
   ]
  },
  {
   "cell_type": "code",
   "execution_count": 34,
   "id": "seeing-function",
   "metadata": {},
   "outputs": [
    {
     "data": {
      "text/plain": [
       "0.9417429609747575"
      ]
     },
     "execution_count": 34,
     "metadata": {},
     "output_type": "execute_result"
    }
   ],
   "source": [
    "accuracy_score(y_test, bal_preds1)"
   ]
  },
  {
   "cell_type": "code",
   "execution_count": 35,
   "id": "interesting-offer",
   "metadata": {},
   "outputs": [
    {
     "data": {
      "text/plain": [
       "0.9379904505178291"
      ]
     },
     "execution_count": 35,
     "metadata": {},
     "output_type": "execute_result"
    }
   ],
   "source": [
    "accuracy_score(y_test, bal_preds2)"
   ]
  },
  {
   "cell_type": "markdown",
   "id": "interpreted-spider",
   "metadata": {},
   "source": [
    "So far, the SMOTE algorithm for both over and undersampling isn't performing as well as I would like.  Let's try some decision tree type models such as Random Forest and XGBoost, both with and without over/undersampling."
   ]
  },
  {
   "cell_type": "code",
   "execution_count": 36,
   "id": "joined-jewelry",
   "metadata": {},
   "outputs": [],
   "source": [
    "rfc = RandomForestClassifier()\n",
    "rfc_o = RandomForestClassifier()\n",
    "rfc_bal = RandomForestClassifier()"
   ]
  },
  {
   "cell_type": "code",
   "execution_count": null,
   "id": "fixed-world",
   "metadata": {},
   "outputs": [],
   "source": [
    "rfc.fit(X_train, y_train)\n",
    "rfc_o.fit(X1_train, y1_train)\n",
    "rfc_bal.fit(X2_train, y2_train)"
   ]
  },
  {
   "cell_type": "code",
   "execution_count": null,
   "id": "inclusive-remains",
   "metadata": {},
   "outputs": [],
   "source": [
    "rfc_preds = rfc.predict(X_test)\n",
    "rfc_o_preds = rfc_o.predict(X_test)\n",
    "rfc_bal_preds = rfc_bal.predict(X_test)"
   ]
  },
  {
   "cell_type": "code",
   "execution_count": null,
   "id": "potential-andorra",
   "metadata": {},
   "outputs": [],
   "source": [
    "cross_val_score(rfc, X_test, y_test)"
   ]
  },
  {
   "cell_type": "code",
   "execution_count": null,
   "id": "compatible-producer",
   "metadata": {},
   "outputs": [],
   "source": [
    "rfc_train_preds = rfc.predict(X_train)"
   ]
  },
  {
   "cell_type": "code",
   "execution_count": null,
   "id": "acknowledged-oklahoma",
   "metadata": {},
   "outputs": [],
   "source": [
    "accuracy_score(y_train, rfc_train_preds), accuracy_score(y_test, rfc_preds)"
   ]
  },
  {
   "cell_type": "code",
   "execution_count": null,
   "id": "prompt-fabric",
   "metadata": {},
   "outputs": [],
   "source": [
    "plot_roc_curve(rfc, X_test, y_test)"
   ]
  },
  {
   "cell_type": "code",
   "execution_count": null,
   "id": "pressed-blackberry",
   "metadata": {},
   "outputs": [],
   "source": [
    "plot_confusion_matrix(rfc, X_test, y_test, cmap = 'Accent')"
   ]
  },
  {
   "cell_type": "code",
   "execution_count": null,
   "id": "political-population",
   "metadata": {},
   "outputs": [],
   "source": [
    "cross_val_score(rfc_o, X, y)"
   ]
  },
  {
   "cell_type": "code",
   "execution_count": null,
   "id": "amazing-sodium",
   "metadata": {},
   "outputs": [],
   "source": [
    "accuracy_score(y_test, rfc_o_preds)"
   ]
  },
  {
   "cell_type": "code",
   "execution_count": null,
   "id": "arranged-tooth",
   "metadata": {},
   "outputs": [],
   "source": [
    "plot_roc_curve(rfc_o, X_test, y_test)"
   ]
  },
  {
   "cell_type": "code",
   "execution_count": null,
   "id": "sophisticated-spiritual",
   "metadata": {},
   "outputs": [],
   "source": [
    "plot_roc_curve(rfc_o, X_test, y_test)"
   ]
  },
  {
   "cell_type": "code",
   "execution_count": null,
   "id": "disturbed-thomson",
   "metadata": {},
   "outputs": [],
   "source": [
    "plot_confusion_matrix(rfc_o, X_test, y_test, cmap='Greens')"
   ]
  },
  {
   "cell_type": "markdown",
   "id": "exposed-polish",
   "metadata": {},
   "source": [
    "Now this is interesting.  Accepting the default RFC parameters and using artificial oversampling of the minority(fraudulent) class in model training, we've tuned to NO missed fraudulent samples.  For this scenario, we might be moving in the right direction.  Once we tune this model we might be able to reduce the total misclassifications to single digits on unseen data."
   ]
  },
  {
   "cell_type": "code",
   "execution_count": null,
   "id": "illegal-tournament",
   "metadata": {},
   "outputs": [],
   "source": [
    "plot_confusion_matrix(rfc_o, X_test, y_test, cmap ='Greens')"
   ]
  },
  {
   "cell_type": "code",
   "execution_count": null,
   "id": "defensive-texture",
   "metadata": {},
   "outputs": [],
   "source": []
  }
 ],
 "metadata": {
  "kernelspec": {
   "display_name": "Python 3.7.7 64-bit (conda)",
   "language": "python",
   "name": "python37764bitconda77dc9d652bc147c6a9d0ea8af6b5ba0e"
  },
  "language_info": {
   "codemirror_mode": {
    "name": "ipython",
    "version": 3
   },
   "file_extension": ".py",
   "mimetype": "text/x-python",
   "name": "python",
   "nbconvert_exporter": "python",
   "pygments_lexer": "ipython3",
   "version": "3.7.10"
  },
  "metadata": {
   "interpreter": {
    "hash": "a0a41b901957e38cb06876b8a6319214ad380a368529eced332e8950177a407a"
   }
  }
 },
 "nbformat": 4,
 "nbformat_minor": 5
}
