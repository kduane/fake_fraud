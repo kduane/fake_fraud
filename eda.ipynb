{
 "cells": [
  {
   "cell_type": "markdown",
   "metadata": {},
   "source": [
    "### Phase 1 - Problem Definition  \n",
    "#### 1.1 Broad Goals  \n",
    "\n",
    "The purpose of this study is to identify fraudulent transactions in an extremely unbalanced dataset.  "
   ]
  },
  {
   "cell_type": "markdown",
   "metadata": {},
   "source": [
    "#### 1.2 Data Source\n",
    "\n",
    "The data is courtesy of the PaySim synthetic dataset available on Kaggle.  \n",
    "https://www.kaggle.com/ntnu-testimon/paysim1\n",
    "\n",
    "\"PaySim simulates mobile money transactions based on a sample of real transactions extracted from one month of financial logs from a mobile money service implemented in an African country. The original logs were provided by a multinational company, who is the provider of the mobile financial service which is currently running in more than 14 countries all around the world.\"\n",
    "\n",
    "The kaggle dataset is scaled back to 1/4 the size of the original and simulates 30 days of mobile money transactions."
   ]
  },
  {
   "cell_type": "markdown",
   "metadata": {},
   "source": [
    "#### 1.3 Problem Statement "
   ]
  },
  {
   "cell_type": "markdown",
   "metadata": {},
   "source": [
    "### Phase 2 - Data Gathering  \n",
    "#### 2.1 Imports\n"
   ]
  },
  {
   "cell_type": "code",
   "execution_count": 1,
   "metadata": {},
   "outputs": [],
   "source": [
    "import pandas as pd\n",
    "import numpy as np\n",
    "import matplotlib.pyplot as plt\n",
    "import seaborn as sns"
   ]
  },
  {
   "cell_type": "markdown",
   "metadata": {},
   "source": [
    "#### 2.2 Load Data"
   ]
  },
  {
   "cell_type": "code",
   "execution_count": 2,
   "metadata": {},
   "outputs": [],
   "source": [
    "df = pd.read_csv('data/PS_20174392719_1491204439457_log.csv')"
   ]
  },
  {
   "cell_type": "code",
   "execution_count": 3,
   "metadata": {},
   "outputs": [
    {
     "data": {
      "text/html": "<div>\n<style scoped>\n    .dataframe tbody tr th:only-of-type {\n        vertical-align: middle;\n    }\n\n    .dataframe tbody tr th {\n        vertical-align: top;\n    }\n\n    .dataframe thead th {\n        text-align: right;\n    }\n</style>\n<table border=\"1\" class=\"dataframe\">\n  <thead>\n    <tr style=\"text-align: right;\">\n      <th></th>\n      <th>step</th>\n      <th>type</th>\n      <th>amount</th>\n      <th>nameOrig</th>\n      <th>oldbalanceOrg</th>\n      <th>newbalanceOrig</th>\n      <th>nameDest</th>\n      <th>oldbalanceDest</th>\n      <th>newbalanceDest</th>\n      <th>isFraud</th>\n      <th>isFlaggedFraud</th>\n    </tr>\n  </thead>\n  <tbody>\n    <tr>\n      <th>0</th>\n      <td>1</td>\n      <td>PAYMENT</td>\n      <td>9839.64</td>\n      <td>C1231006815</td>\n      <td>170136.0</td>\n      <td>160296.36</td>\n      <td>M1979787155</td>\n      <td>0.0</td>\n      <td>0.0</td>\n      <td>0</td>\n      <td>0</td>\n    </tr>\n    <tr>\n      <th>1</th>\n      <td>1</td>\n      <td>PAYMENT</td>\n      <td>1864.28</td>\n      <td>C1666544295</td>\n      <td>21249.0</td>\n      <td>19384.72</td>\n      <td>M2044282225</td>\n      <td>0.0</td>\n      <td>0.0</td>\n      <td>0</td>\n      <td>0</td>\n    </tr>\n  </tbody>\n</table>\n</div>",
      "text/plain": "   step     type   amount     nameOrig  oldbalanceOrg  newbalanceOrig  \\\n0     1  PAYMENT  9839.64  C1231006815       170136.0       160296.36   \n1     1  PAYMENT  1864.28  C1666544295        21249.0        19384.72   \n\n      nameDest  oldbalanceDest  newbalanceDest  isFraud  isFlaggedFraud  \n0  M1979787155             0.0             0.0        0               0  \n1  M2044282225             0.0             0.0        0               0  "
     },
     "execution_count": 3,
     "metadata": {},
     "output_type": "execute_result"
    }
   ],
   "source": [
    "df.head(2)"
   ]
  },
  {
   "cell_type": "code",
   "execution_count": 4,
   "metadata": {},
   "outputs": [],
   "source": [
    "df = df.rename(columns={'oldbalanceOrg':'oldBalanceOrig', 'newbalanceOrig':'newBalanceOrig', \\\n",
    "                        'oldbalanceDest':'oldBalanceDest', 'newbalanceDest':'newBalanceDest'})\n",
    "# to make all columns camel case and labeled the same way"
   ]
  },
  {
   "cell_type": "markdown",
   "metadata": {},
   "source": [
    "### Phase 3 - Exploratory Data Analysis  \n",
    "#### 3.1 Dataset Shape"
   ]
  },
  {
   "cell_type": "code",
   "execution_count": 5,
   "metadata": {},
   "outputs": [
    {
     "data": {
      "text/plain": "(6362620, 11)"
     },
     "execution_count": 5,
     "metadata": {},
     "output_type": "execute_result"
    }
   ],
   "source": [
    "df.shape"
   ]
  },
  {
   "cell_type": "markdown",
   "metadata": {},
   "source": [
    "#### 3.2 Fraud by Transaction Type"
   ]
  },
  {
   "cell_type": "code",
   "execution_count": 6,
   "metadata": {},
   "outputs": [
    {
     "data": {
      "text/plain": "0    0.999997\n1    0.000003\nName: isFlaggedFraud, dtype: float64"
     },
     "execution_count": 6,
     "metadata": {},
     "output_type": "execute_result"
    }
   ],
   "source": [
    "df['isFlaggedFraud'].value_counts(normalize=True)"
   ]
  },
  {
   "cell_type": "code",
   "execution_count": 7,
   "metadata": {},
   "outputs": [
    {
     "data": {
      "text/plain": "0    0.998709\n1    0.001291\nName: isFraud, dtype: float64"
     },
     "execution_count": 7,
     "metadata": {},
     "output_type": "execute_result"
    }
   ],
   "source": [
    "df['isFraud'].value_counts(normalize=True)"
   ]
  },
  {
   "cell_type": "markdown",
   "metadata": {},
   "source": [
    "Okay, we're dealing with a very imbalanced group here.  That means we'll either need to correct the class imbalance or we'll have an extremely high bar to improve on."
   ]
  },
  {
   "cell_type": "code",
   "execution_count": 8,
   "metadata": {},
   "outputs": [
    {
     "data": {
      "text/plain": "type      isFraud\nCASH_IN   0          1.000000\nCASH_OUT  0          0.998160\n          1          0.001840\nDEBIT     0          1.000000\nPAYMENT   0          1.000000\nTRANSFER  0          0.992312\n          1          0.007688\nName: isFraud, dtype: float64"
     },
     "execution_count": 8,
     "metadata": {},
     "output_type": "execute_result"
    }
   ],
   "source": [
    "df.groupby(by = ['type'])['isFraud'].value_counts(normalize = True)"
   ]
  },
  {
   "cell_type": "markdown",
   "metadata": {},
   "source": [
    "At the moment we're ONLY seeing fraud samples in the CASH_OUT and TRANSFER categories.  We might be able to narrow our field of vision to focus on only these two categories."
   ]
  },
  {
   "cell_type": "code",
   "execution_count": 9,
   "metadata": {},
   "outputs": [
    {
     "data": {
      "text/plain": "type      isFraud\nCASH_IN   0          1399284\nCASH_OUT  0          2233384\n          1             4116\nDEBIT     0            41432\nPAYMENT   0          2151495\nTRANSFER  0           528812\n          1             4097\nName: isFraud, dtype: int64"
     },
     "execution_count": 9,
     "metadata": {},
     "output_type": "execute_result"
    }
   ],
   "source": [
    "df.groupby(by = ['type'])['isFraud'].value_counts()"
   ]
  },
  {
   "cell_type": "code",
   "execution_count": 10,
   "metadata": {},
   "outputs": [],
   "source": [
    "df = df[(df['type'] == 'CASH_OUT' ) | (df['type'] == 'TRANSFER')]"
   ]
  },
  {
   "cell_type": "code",
   "execution_count": 11,
   "metadata": {},
   "outputs": [
    {
     "data": {
      "text/plain": "0    2762196\n1       8213\nName: isFraud, dtype: int64"
     },
     "execution_count": 11,
     "metadata": {},
     "output_type": "execute_result"
    }
   ],
   "source": [
    "df['isFraud'].value_counts()"
   ]
  },
  {
   "cell_type": "code",
   "execution_count": 12,
   "metadata": {},
   "outputs": [
    {
     "data": {
      "text/plain": "0    0.997035\n1    0.002965\nName: isFraud, dtype: float64"
     },
     "execution_count": 12,
     "metadata": {},
     "output_type": "execute_result"
    }
   ],
   "source": [
    "df['isFraud'].value_counts(normalize = True)"
   ]
  },
  {
   "cell_type": "code",
   "execution_count": 13,
   "metadata": {},
   "outputs": [
    {
     "data": {
      "text/plain": "nameDest     isFraud\nC1000004082  0           3\nC1000004940  0          10\nC1000013769  0           9\nC100001587   0           5\nC1000015936  0           8\n                        ..\nC999990488   0           1\nC999991596   0           1\nC999993662   0           2\nC999996264   0           1\nC999999956   0           2\nName: isFraud, Length: 514627, dtype: int64"
     },
     "execution_count": 13,
     "metadata": {},
     "output_type": "execute_result"
    }
   ],
   "source": [
    "df.groupby('nameDest')['isFraud'].value_counts(sort = True)"
   ]
  },
  {
   "cell_type": "markdown",
   "metadata": {},
   "source": [
    "Even in the categories that have confirmed fraud, we're only seeing 8.2k samples of fraud out of 2.7m samples.  Still a highly unbalanced class, although we've improved the positively identified cases from 0.13 % to 0.3 %.  This means that our baseline for our target column will need to be better than 99.7% accurate.  Let's see if we can improve on that."
   ]
  },
  {
   "cell_type": "code",
   "execution_count": 14,
   "metadata": {},
   "outputs": [
    {
     "data": {
      "text/plain": "isFraud  nameDest   \n0        C1286084959    75\n         C1360767589    68\n         C665576141     68\n         C97730845      67\n         C248609774     64\n                        ..\n1        C998514614      1\n         C999409522      1\n         C999470580      1\n         C999708230      1\n         C999955448      1\nName: nameDest, Length: 514627, dtype: int64"
     },
     "execution_count": 14,
     "metadata": {},
     "output_type": "execute_result"
    }
   ],
   "source": [
    "df.groupby('isFraud')['nameDest'].value_counts()"
   ]
  },
  {
   "cell_type": "code",
   "execution_count": 15,
   "metadata": {},
   "outputs": [],
   "source": [
    "fraud = df[df['isFraud']== 1]"
   ]
  },
  {
   "cell_type": "code",
   "execution_count": 16,
   "metadata": {},
   "outputs": [
    {
     "data": {
      "text/plain": "C2020337583    2\nC904300960     2\nC1601170327    2\nC104038589     2\nC2129197098    2\n              ..\nC1966002811    1\nC148096714     1\nC1882398293    1\nC702718253     1\nC173311273     1\nName: nameDest, Length: 8169, dtype: int64"
     },
     "execution_count": 16,
     "metadata": {},
     "output_type": "execute_result"
    }
   ],
   "source": [
    "fraud['nameDest'].value_counts()"
   ]
  },
  {
   "cell_type": "markdown",
   "metadata": {},
   "source": [
    "No target account has more than 2 fradulent transactions"
   ]
  },
  {
   "cell_type": "code",
   "execution_count": 17,
   "metadata": {},
   "outputs": [
    {
     "data": {
      "text/plain": "C1901170304    1\nC1635920550    1\nC332921972     1\nC2050703310    1\nC395825139     1\n              ..\nC1046754068    1\nC456762120     1\nC438643114     1\nC1911204207    1\nC1058391661    1\nName: nameOrig, Length: 8213, dtype: int64"
     },
     "execution_count": 17,
     "metadata": {},
     "output_type": "execute_result"
    }
   ],
   "source": [
    "fraud['nameOrig'].value_counts()"
   ]
  },
  {
   "cell_type": "markdown",
   "metadata": {},
   "source": [
    "The destination accounts for fraud transactions occasionally have some overlap, the origin accounts do not."
   ]
  },
  {
   "cell_type": "code",
   "execution_count": 18,
   "metadata": {},
   "outputs": [
    {
     "data": {
      "image/png": "[encoded data removed]",
      "text/plain": "<Figure size 432x288 with 1 Axes>"
     },
     "metadata": {
      "needs_background": "light"
     },
     "output_type": "display_data"
    }
   ],
   "source": [
    "fraud['step'].hist(bins = 25)\n",
    "plt.title(\"Count of Fraudulent Transacitons per Time Step\")\n",
    "plt.savefig('./imgs/fraudTransactionsPerStep.jpg')"
   ]
  },
  {
   "cell_type": "code",
   "execution_count": 19,
   "metadata": {},
   "outputs": [
    {
     "data": {
      "image/png": "[encoded data removed]",
      "text/plain": "<Figure size 432x288 with 1 Axes>"
     },
     "metadata": {
      "needs_background": "light"
     },
     "output_type": "display_data"
    }
   ],
   "source": [
    "df['step'].hist(bins = 25)\n",
    "plt.title(\"Count of Transactions per Time Step\")\n",
    "plt.savefig('./imgs/regTransactionsPerStep.jpg');"
   ]
  },
  {
   "cell_type": "markdown",
   "metadata": {},
   "source": [
    "While we're seeing a bit of a spike in fraudulent transactions around the 400th hour of the time frame, the number of fraudulent transactions remains constant.  Interestingly, we're also seeing a dramatic dropoff in total transactions around that same timeframe.  Maybe we can look at percentage of fraud over time."
   ]
  },
  {
   "cell_type": "code",
   "execution_count": 20,
   "metadata": {},
   "outputs": [],
   "source": [
    "time_fraud = df.groupby('step').agg({'isFraud': 'sum'}, axis = 1)"
   ]
  },
  {
   "cell_type": "code",
   "execution_count": 21,
   "metadata": {},
   "outputs": [
    {
     "data": {
      "text/html": "<div>\n<style scoped>\n    .dataframe tbody tr th:only-of-type {\n        vertical-align: middle;\n    }\n\n    .dataframe tbody tr th {\n        vertical-align: top;\n    }\n\n    .dataframe thead th {\n        text-align: right;\n    }\n</style>\n<table border=\"1\" class=\"dataframe\">\n  <thead>\n    <tr style=\"text-align: right;\">\n      <th></th>\n      <th>isFraud</th>\n    </tr>\n    <tr>\n      <th>step</th>\n      <th></th>\n    </tr>\n  </thead>\n  <tbody>\n    <tr>\n      <th>1</th>\n      <td>16</td>\n    </tr>\n    <tr>\n      <th>2</th>\n      <td>8</td>\n    </tr>\n    <tr>\n      <th>3</th>\n      <td>4</td>\n    </tr>\n    <tr>\n      <th>4</th>\n      <td>10</td>\n    </tr>\n    <tr>\n      <th>5</th>\n      <td>6</td>\n    </tr>\n    <tr>\n      <th>...</th>\n      <td>...</td>\n    </tr>\n    <tr>\n      <th>739</th>\n      <td>10</td>\n    </tr>\n    <tr>\n      <th>740</th>\n      <td>6</td>\n    </tr>\n    <tr>\n      <th>741</th>\n      <td>22</td>\n    </tr>\n    <tr>\n      <th>742</th>\n      <td>14</td>\n    </tr>\n    <tr>\n      <th>743</th>\n      <td>8</td>\n    </tr>\n  </tbody>\n</table>\n<p>743 rows × 1 columns</p>\n</div>",
      "text/plain": "      isFraud\nstep         \n1          16\n2           8\n3           4\n4          10\n5           6\n...       ...\n739        10\n740         6\n741        22\n742        14\n743         8\n\n[743 rows x 1 columns]"
     },
     "execution_count": 21,
     "metadata": {},
     "output_type": "execute_result"
    }
   ],
   "source": [
    "time_fraud"
   ]
  },
  {
   "cell_type": "code",
   "execution_count": 22,
   "metadata": {},
   "outputs": [
    {
     "data": {
      "image/png": "[encoded data removed]",
      "text/plain": "<Figure size 432x288 with 1 Axes>"
     },
     "metadata": {
      "needs_background": "light"
     },
     "output_type": "display_data"
    }
   ],
   "source": [
    "time_fraud.plot()\n",
    "plt.title(\"Count of Fraudulent Transactions per Timestep\")\n",
    "plt.savefig('./imgs/nFraudPerStep.jpg')"
   ]
  },
  {
   "cell_type": "markdown",
   "metadata": {},
   "source": [
    "Okay, let's get more of the dataframe on the number line."
   ]
  },
  {
   "cell_type": "code",
   "execution_count": 23,
   "metadata": {},
   "outputs": [],
   "source": [
    "def cust_or_merch(cell):\n",
    "    if \"M\" in str(cell):\n",
    "        return \"M\"\n",
    "    else:\n",
    "        return \"C\"\n",
    "    \n",
    "df['origAccountType'] = df['nameOrig'].apply(cust_or_merch)\n",
    "df['destAccountType'] = df['nameDest'].apply(cust_or_merch)"
   ]
  },
  {
   "cell_type": "code",
   "execution_count": 24,
   "metadata": {},
   "outputs": [
    {
     "data": {
      "text/plain": "C    2770409\nName: origAccountType, dtype: int64"
     },
     "execution_count": 24,
     "metadata": {},
     "output_type": "execute_result"
    }
   ],
   "source": [
    "df['origAccountType'].value_counts()"
   ]
  },
  {
   "cell_type": "code",
   "execution_count": 25,
   "metadata": {},
   "outputs": [
    {
     "data": {
      "text/plain": "C    1.0\nName: destAccountType, dtype: float64"
     },
     "execution_count": 25,
     "metadata": {},
     "output_type": "execute_result"
    }
   ],
   "source": [
    "df['destAccountType'].value_counts(normalize = True)"
   ]
  },
  {
   "cell_type": "markdown",
   "metadata": {},
   "source": [
    "\"M\" type accounts are merchants accounts, originating no transactions and receiving 33.8% of transactions."
   ]
  },
  {
   "cell_type": "code",
   "execution_count": 26,
   "metadata": {},
   "outputs": [
    {
     "data": {
      "text/plain": "destAccountType  isFraud\nC                0          2762196\n                 1             8213\nName: isFraud, dtype: int64"
     },
     "execution_count": 26,
     "metadata": {},
     "output_type": "execute_result"
    }
   ],
   "source": [
    "df.groupby('destAccountType')['isFraud'].value_counts()"
   ]
  },
  {
   "cell_type": "markdown",
   "metadata": {},
   "source": [
    "And I'm not showing any merchant accounts being confirmed as fraudulent. The merchant prefix of 'M' does not appear to include any examples.  We'll leave this in for now to see if we can spot a correlation once we bring it to the number line, but we might ultimately drop it from the model as so far it seems an irrelevant feature."
   ]
  },
  {
   "cell_type": "markdown",
   "metadata": {},
   "source": [
    "the original paper associated with the PaySim software indicates that the standard method for fraud is in two steps.  \n",
    "\n",
    "    1. Transfer to a fraudulent account   \n",
    "    2. a CASH_OUT transaction from the same account   \n",
    "    \n",
    "Let's see if we can quantify the accounts where this happens."
   ]
  },
  {
   "cell_type": "code",
   "execution_count": 27,
   "metadata": {},
   "outputs": [],
   "source": [
    "notFraud = df[df['isFraud']== 0]"
   ]
  },
  {
   "cell_type": "code",
   "execution_count": 28,
   "metadata": {},
   "outputs": [],
   "source": [
    "df = pd.get_dummies(columns = ['destAccountType', 'type'], drop_first = True, data = df)"
   ]
  },
  {
   "cell_type": "code",
   "execution_count": 29,
   "metadata": {},
   "outputs": [],
   "source": [
    "df = df.drop(columns = ['nameDest', 'isFlaggedFraud', 'origAccountType', 'nameOrig'])"
   ]
  },
  {
   "cell_type": "code",
   "execution_count": 30,
   "metadata": {},
   "outputs": [
    {
     "data": {
      "image/png": "[encoded data removed]",
      "text/plain": "<Figure size 432x288 with 2 Axes>"
     },
     "metadata": {
      "needs_background": "light"
     },
     "output_type": "display_data"
    }
   ],
   "source": [
    "sns.heatmap(df.corr()[['isFraud']].sort_values(by = 'isFraud', ascending = False),\n",
    "            vmin = -1,\n",
    "            vmax = 1,\n",
    "            cmap = 'viridis',\n",
    "            annot = True)\n",
    "plt.title('Correlation Heatmap of All Categories')\n",
    "plt.savefig('./imgs/correlationHeatmap.jpg')"
   ]
  },
  {
   "cell_type": "markdown",
   "metadata": {},
   "source": [
    "Okay, the strongest correlation to fraud is in the oldBalanceOrig column,almost all of the other existing columns are showing very low correlation coefficients. I'll have to try and engineer some features that have stronger coefficients for the model to pick up on."
   ]
  },
  {
   "cell_type": "code",
   "execution_count": 31,
   "metadata": {},
   "outputs": [
    {
     "data": {
      "text/html": "<div>\n<style scoped>\n    .dataframe tbody tr th:only-of-type {\n        vertical-align: middle;\n    }\n\n    .dataframe tbody tr th {\n        vertical-align: top;\n    }\n\n    .dataframe thead th {\n        text-align: right;\n    }\n</style>\n<table border=\"1\" class=\"dataframe\">\n  <thead>\n    <tr style=\"text-align: right;\">\n      <th></th>\n      <th>step</th>\n      <th>amount</th>\n      <th>oldBalanceOrig</th>\n      <th>newBalanceOrig</th>\n      <th>oldBalanceDest</th>\n      <th>newBalanceDest</th>\n      <th>isFraud</th>\n      <th>type_TRANSFER</th>\n    </tr>\n  </thead>\n  <tbody>\n    <tr>\n      <th>2</th>\n      <td>1</td>\n      <td>181.00</td>\n      <td>181.00</td>\n      <td>0.0</td>\n      <td>0.0</td>\n      <td>0.0</td>\n      <td>1</td>\n      <td>1</td>\n    </tr>\n    <tr>\n      <th>251</th>\n      <td>1</td>\n      <td>2806.00</td>\n      <td>2806.00</td>\n      <td>0.0</td>\n      <td>0.0</td>\n      <td>0.0</td>\n      <td>1</td>\n      <td>1</td>\n    </tr>\n    <tr>\n      <th>680</th>\n      <td>1</td>\n      <td>20128.00</td>\n      <td>20128.00</td>\n      <td>0.0</td>\n      <td>0.0</td>\n      <td>0.0</td>\n      <td>1</td>\n      <td>1</td>\n    </tr>\n    <tr>\n      <th>969</th>\n      <td>1</td>\n      <td>1277212.77</td>\n      <td>1277212.77</td>\n      <td>0.0</td>\n      <td>0.0</td>\n      <td>0.0</td>\n      <td>1</td>\n      <td>1</td>\n    </tr>\n    <tr>\n      <th>1115</th>\n      <td>1</td>\n      <td>35063.63</td>\n      <td>35063.63</td>\n      <td>0.0</td>\n      <td>0.0</td>\n      <td>0.0</td>\n      <td>1</td>\n      <td>1</td>\n    </tr>\n    <tr>\n      <th>...</th>\n      <td>...</td>\n      <td>...</td>\n      <td>...</td>\n      <td>...</td>\n      <td>...</td>\n      <td>...</td>\n      <td>...</td>\n      <td>...</td>\n    </tr>\n    <tr>\n      <th>6362610</th>\n      <td>742</td>\n      <td>63416.99</td>\n      <td>63416.99</td>\n      <td>0.0</td>\n      <td>0.0</td>\n      <td>0.0</td>\n      <td>1</td>\n      <td>1</td>\n    </tr>\n    <tr>\n      <th>6362612</th>\n      <td>743</td>\n      <td>1258818.82</td>\n      <td>1258818.82</td>\n      <td>0.0</td>\n      <td>0.0</td>\n      <td>0.0</td>\n      <td>1</td>\n      <td>1</td>\n    </tr>\n    <tr>\n      <th>6362614</th>\n      <td>743</td>\n      <td>339682.13</td>\n      <td>339682.13</td>\n      <td>0.0</td>\n      <td>0.0</td>\n      <td>0.0</td>\n      <td>1</td>\n      <td>1</td>\n    </tr>\n    <tr>\n      <th>6362616</th>\n      <td>743</td>\n      <td>6311409.28</td>\n      <td>6311409.28</td>\n      <td>0.0</td>\n      <td>0.0</td>\n      <td>0.0</td>\n      <td>1</td>\n      <td>1</td>\n    </tr>\n    <tr>\n      <th>6362618</th>\n      <td>743</td>\n      <td>850002.52</td>\n      <td>850002.52</td>\n      <td>0.0</td>\n      <td>0.0</td>\n      <td>0.0</td>\n      <td>1</td>\n      <td>1</td>\n    </tr>\n  </tbody>\n</table>\n<p>5776 rows × 8 columns</p>\n</div>",
      "text/plain": "         step      amount  oldBalanceOrig  newBalanceOrig  oldBalanceDest  \\\n2           1      181.00          181.00             0.0             0.0   \n251         1     2806.00         2806.00             0.0             0.0   \n680         1    20128.00        20128.00             0.0             0.0   \n969         1  1277212.77      1277212.77             0.0             0.0   \n1115        1    35063.63        35063.63             0.0             0.0   \n...       ...         ...             ...             ...             ...   \n6362610   742    63416.99        63416.99             0.0             0.0   \n6362612   743  1258818.82      1258818.82             0.0             0.0   \n6362614   743   339682.13       339682.13             0.0             0.0   \n6362616   743  6311409.28      6311409.28             0.0             0.0   \n6362618   743   850002.52       850002.52             0.0             0.0   \n\n         newBalanceDest  isFraud  type_TRANSFER  \n2                   0.0        1              1  \n251                 0.0        1              1  \n680                 0.0        1              1  \n969                 0.0        1              1  \n1115                0.0        1              1  \n...                 ...      ...            ...  \n6362610             0.0        1              1  \n6362612             0.0        1              1  \n6362614             0.0        1              1  \n6362616             0.0        1              1  \n6362618             0.0        1              1  \n\n[5776 rows x 8 columns]"
     },
     "execution_count": 31,
     "metadata": {},
     "output_type": "execute_result"
    }
   ],
   "source": [
    "df[(df['oldBalanceDest']== 0) & (df['newBalanceDest']== 0) & (df['amount'] != 0)]"
   ]
  },
  {
   "cell_type": "markdown",
   "metadata": {},
   "source": [
    "Interestingly, we have nearly 6k transactions where the total amount of the origin account is transferred to an empty new account AND the new account still remains empty afterwards.  "
   ]
  },
  {
   "cell_type": "code",
   "execution_count": 32,
   "metadata": {},
   "outputs": [
    {
     "data": {
      "text/plain": "step              0.549136\namount            0.290804\noldBalanceOrig    0.212884\nnewBalanceOrig    0.067073\noldBalanceDest         NaN\nnewBalanceDest         NaN\nisFraud           1.000000\ntype_TRANSFER     0.955196\nName: isFraud, dtype: float64"
     },
     "execution_count": 32,
     "metadata": {},
     "output_type": "execute_result"
    }
   ],
   "source": [
    "df[(df['oldBalanceDest']== 0) & (df['newBalanceDest']== 0) & (df['amount'] != 0)].corr()['isFraud']"
   ]
  },
  {
   "cell_type": "code",
   "execution_count": 33,
   "metadata": {},
   "outputs": [],
   "source": [
    "df['targetBalanceDiff'] = df['newBalanceOrig'] + df['amount'] - df['oldBalanceOrig']"
   ]
  },
  {
   "cell_type": "code",
   "execution_count": 34,
   "metadata": {},
   "outputs": [
    {
     "data": {
      "image/png": "[encoded data removed]",
      "text/plain": "<Figure size 432x288 with 2 Axes>"
     },
     "metadata": {
      "needs_background": "light"
     },
     "output_type": "display_data"
    }
   ],
   "source": [
    "sns.heatmap(df.corr()[['isFraud']].sort_values(by = 'isFraud', ascending = False),\n",
    "            vmin = -1,\n",
    "            vmax = 1,\n",
    "            cmap = 'viridis',\n",
    "            annot = True)\n",
    "plt.title('Correlation Heatmap of All Categories')\n",
    "plt.savefig('./imgs/correlationHeatmap.jpg')"
   ]
  },
  {
   "cell_type": "markdown",
   "metadata": {},
   "source": []
  },
  {
   "cell_type": "markdown",
   "metadata": {},
   "source": [
    "Nice, this might be a good option for an engineered column.  But what about transactions where the cash isn't available or other calculation errors?"
   ]
  },
  {
   "cell_type": "code",
   "execution_count": 35,
   "metadata": {},
   "outputs": [
    {
     "data": {
      "text/plain": "(5776, 9)"
     },
     "execution_count": 35,
     "metadata": {},
     "output_type": "execute_result"
    }
   ],
   "source": [
    "sourceError = df[(df['oldBalanceDest'] == 0) & (df['newBalanceDest'] == 0) & (df['amount'] != 0)]\n",
    "sourceError.shape"
   ]
  },
  {
   "cell_type": "code",
   "execution_count": 36,
   "metadata": {},
   "outputs": [
    {
     "data": {
      "text/plain": "step                 0.549136\namount               0.290804\noldBalanceOrig       0.212884\nnewBalanceOrig       0.067073\noldBalanceDest            NaN\nnewBalanceDest            NaN\nisFraud              1.000000\ntype_TRANSFER        0.955196\ntargetBalanceDiff   -0.101822\nName: isFraud, dtype: float64"
     },
     "execution_count": 36,
     "metadata": {},
     "output_type": "execute_result"
    }
   ],
   "source": [
    "sourceError.corr()['isFraud']"
   ]
  },
  {
   "cell_type": "code",
   "execution_count": 37,
   "metadata": {},
   "outputs": [],
   "source": [
    "df['sourceBalanceDiff'] = df['oldBalanceDest'] + df['amount'] - df['newBalanceDest']"
   ]
  },
  {
   "cell_type": "code",
   "execution_count": 38,
   "metadata": {},
   "outputs": [
    {
     "data": {
      "image/png": "[encoded data removed]",
      "text/plain": "<Figure size 432x288 with 2 Axes>"
     },
     "metadata": {
      "needs_background": "light"
     },
     "output_type": "display_data"
    }
   ],
   "source": [
    "sns.heatmap(df.corr()[['isFraud']].sort_values(by = 'isFraud', ascending = False),\n",
    "            vmin = -1,\n",
    "            vmax = 1,\n",
    "            cmap = 'viridis',\n",
    "            annot = True)\n",
    "plt.title('Correlation Heatmap of All Categories')\n",
    "plt.savefig('./imgs/correlationHeatmap.jpg')"
   ]
  },
  {
   "cell_type": "markdown",
   "metadata": {},
   "source": []
  }
 ],
 "metadata": {
  "kernelspec": {
   "display_name": "Python 3.7.7 64-bit (conda)",
   "language": "python",
   "name": "python37764bitconda77dc9d652bc147c6a9d0ea8af6b5ba0e"
  },
  "language_info": {
   "codemirror_mode": {
    "name": "ipython",
    "version": 3
   },
   "file_extension": ".py",
   "mimetype": "text/x-python",
   "name": "python",
   "nbconvert_exporter": "python",
   "pygments_lexer": "ipython3",
   "version": "3.7.10"
  },
  "metadata": {
   "interpreter": {
    "hash": "a0a41b901957e38cb06876b8a6319214ad380a368529eced332e8950177a407a"
   }
  }
 },
 "nbformat": 4,
 "nbformat_minor": 4
}